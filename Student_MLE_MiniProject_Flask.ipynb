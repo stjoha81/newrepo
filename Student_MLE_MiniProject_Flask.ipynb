{
  "cells": [
    {
      "cell_type": "markdown",
      "source": [
        "# Mini Project: Flask for ML Tasks\n",
        "\n",
        "Flask is a micro web framework for Python that simplifies the process of building web applications. It's designed to be lightweight, flexible, and easy to use, making it a popular choice for developing web applications, APIs, and microservices. Flask doesn't impose a lot of constraints on how you structure your application, giving you the freedom to design your application as needed.\n",
        "\n",
        "Here's how Flask works and how it can be used for machine learning engineering:\n",
        "\n",
        "**1. Web Application Basics:**\n",
        "Flask allows you to define routes (URLs) and associate them with Python functions. When a user visits a specific URL, the associated function is executed, and you can return HTML, JSON, images, or any other type of data as a response. This makes it great for building dynamic and interactive web applications.\n",
        "\n",
        "**2. Integration with Machine Learning:**\n",
        "Flask can be incredibly useful in the context of machine learning engineering for a variety of purposes:\n",
        "\n",
        "- **Model Deployment:** Flask can be used to deploy machine learning models as APIs. Once your model is trained, you can create a Flask app that exposes the model through a web API. This enables other applications, platforms, or services to easily interact with and use your trained models for making predictions.\n",
        "\n",
        "- **Data Visualization:** You can use Flask to create interactive visualizations of data and model predictions. This is particularly useful when you want to provide users with a graphical representation of your machine learning insights.\n",
        "\n",
        "- **Custom Preprocessing:** If your machine learning model requires preprocessing steps before making predictions, Flask can be used to create an interface where users can input data, and your app preprocesses the data and feeds it to the model for prediction.\n",
        "\n",
        "- **User Interface:** Flask can help you create user-friendly interfaces for your machine learning models, allowing non-technical users to interact with and utilize your models without writing code.\n",
        "\n",
        "- **A/B Testing and Experimentation:** Flask apps can be used to deploy different versions of your models for A/B testing or experimentation, allowing you to compare the performance of different models and make data-driven decisions.\n",
        "\n",
        "**3. Real-world Example:**\n",
        "Imagine you've trained a sentiment analysis model, and you want to allow users to input text and get predictions about the sentiment of the text. You can create a Flask app that provides a simple web interface where users can type in their text, and the app sends the text to your sentiment analysis model and displays the result."
      ],
      "metadata": {
        "id": "yPbWViOfnJFg"
      }
    },
    {
      "cell_type": "markdown",
      "source": [
        "A typical Flask application follows a specific structure that helps organize your code, templates, static files, and other resources. This structure is designed to keep your codebase organized and maintainable as your application grows. The layout typically consists of several key components:\n",
        "\n",
        "1. **Main Application File (`app.py` or similar):**\n",
        "   This is the entry point of your Flask application. It contains the core configuration, route definitions, and application setup. You define the routes (URLs) your application will respond to, and associate each route with a Python function that handles the logic for that route.\n",
        "\n",
        "2. **Templates Folder (`templates/`):**\n",
        "   This folder contains your HTML templates. Flask uses a templating engine (Jinja2 by default) to generate dynamic HTML content. Templates allow you to separate the presentation (HTML) from the logic (Python) in your application, making your code more organized and maintainable. Templates can also include placeholders for dynamic data that Flask fills in when rendering the template.\n",
        "\n",
        "3. **Static Folder (`static/`):**\n",
        "   The `static` folder holds static assets like CSS files, JavaScript files, images, fonts, and other resources that are directly served to the user's browser. These assets are typically used to style and enhance the appearance of your web application. By separating static assets from dynamic content, you can optimize the performance of your application.\n",
        "\n",
        "4. **Other Application Files and Modules:**\n",
        "   Depending on the complexity of your application, you might create additional modules or packages to handle different aspects of your application, such as database interactions, machine learning model deployment, authentication, and more. These modules help keep your codebase modular and maintainable.\n",
        "\n",
        "Here's a simplified example of the structure of a Flask application:\n",
        "\n",
        "```\n",
        "my_flask_app/\n",
        "├── app.py\n",
        "├── templates/\n",
        "│   ├── index.html\n",
        "│   ├── result.html\n",
        "├── static/\n",
        "│   ├── styles.css\n",
        "│   ├── script.js\n",
        "└── other_modules/\n",
        "    ├── database.py\n",
        "    ├── ml_model.py\n",
        "```\n",
        "\n",
        "In this example:\n",
        "\n",
        "- `app.py` is the main application file where you define routes, configure the app, and handle requests.\n",
        "- The `templates` folder contains HTML templates that define the structure of your web pages.\n",
        "- The `static` folder holds static assets like CSS and JavaScript files.\n",
        "- The `other_modules` folder might contain additional modules or packages for handling specific tasks, like interacting with a database (`database.py`) or deploying a machine learning model (`ml_model.py`).\n",
        "\n",
        "The separation of static files and templates helps you maintain clean and organized code. Static assets are served directly to users, while templates are used to dynamically generate HTML pages. This structure facilitates collaboration among team members and makes it easier to understand, maintain, and extend your Flask application."
      ],
      "metadata": {
        "id": "yHTfSly5qyjK"
      }
    },
    {
      "cell_type": "markdown",
      "source": [
        "In this mini-project you'll be introduced to Flask by developing an application where your render a bar plot based on user-input data through an API. Note, colab is not a natural place for API development. Colab is mainly used here to be consistent with other mini-projects.\n",
        "\n",
        "As such, we'll need to leverage a tool called [ngrok](https://ngrok.com/). Ngrok is a tool that allows you to create secure tunnels from a public endpoint to a locally running web service or application. It enables you to expose your local server to the internet, making it accessible to others even if it's running on your own computer behind firewalls or NAT (Network Address Translation) devices. In this mini-project, we'll use ngrok to expose your colab instance to the wider internet. Again, you'd never use something like this for production.\n",
        "\n",
        "Go ahead and sign up for an ngrok account [here](https://ngrok.com/). It's free and useful for a wide variety of tasks."
      ],
      "metadata": {
        "id": "ckZ-l9RTr_Ef"
      }
    },
    {
      "cell_type": "code",
      "execution_count": 1,
      "metadata": {
        "id": "Bc5p2nJfsxer",
        "outputId": "767366b2-4d5e-442c-df8e-8b078d6425b7",
        "colab": {
          "base_uri": "https://localhost:8080/"
        }
      },
      "outputs": [
        {
          "output_type": "stream",
          "name": "stdout",
          "text": [
            "Collecting pyngrok\n",
            "  Downloading pyngrok-7.1.6-py3-none-any.whl (22 kB)\n",
            "Requirement already satisfied: PyYAML>=5.1 in /usr/local/lib/python3.10/dist-packages (from pyngrok) (6.0.1)\n",
            "Installing collected packages: pyngrok\n",
            "Successfully installed pyngrok-7.1.6\n",
            "Requirement already satisfied: flask in /usr/local/lib/python3.10/dist-packages (2.2.5)\n",
            "Requirement already satisfied: Werkzeug>=2.2.2 in /usr/local/lib/python3.10/dist-packages (from flask) (3.0.1)\n",
            "Requirement already satisfied: Jinja2>=3.0 in /usr/local/lib/python3.10/dist-packages (from flask) (3.1.3)\n",
            "Requirement already satisfied: itsdangerous>=2.0 in /usr/local/lib/python3.10/dist-packages (from flask) (2.1.2)\n",
            "Requirement already satisfied: click>=8.0 in /usr/local/lib/python3.10/dist-packages (from flask) (8.1.7)\n",
            "Requirement already satisfied: MarkupSafe>=2.0 in /usr/local/lib/python3.10/dist-packages (from Jinja2>=3.0->flask) (2.1.5)\n"
          ]
        }
      ],
      "source": [
        "!pip install pyngrok\n",
        "!pip install flask"
      ]
    },
    {
      "cell_type": "markdown",
      "source": [
        "Execute the cell below to authenticate to ngrok. Paste your authentication token after copying it from [https://dashboard.ngrok.com/auth](https://dashboard.ngrok.com/auth). This assumes you've already created an ngrok account.  "
      ],
      "metadata": {
        "id": "harGkq13JK9j"
      }
    },
    {
      "cell_type": "code",
      "execution_count": 2,
      "metadata": {
        "id": "t_CERy7auqz3",
        "outputId": "ffd19a0f-7156-404d-ccdc-0126a2597a38",
        "colab": {
          "base_uri": "https://localhost:8080/"
        }
      },
      "outputs": [
        {
          "name": "stdout",
          "output_type": "stream",
          "text": [
            "Enter your authtoken, which can be copied from https://dashboard.ngrok.com/auth\n",
            "··········\n"
          ]
        }
      ],
      "source": [
        "import getpass\n",
        "from pyngrok import ngrok, conf\n",
        "\n",
        "print(\"Enter your authtoken, which can be copied from https://dashboard.ngrok.com/auth\")\n",
        "conf.get_default().auth_token = getpass.getpass()"
      ]
    },
    {
      "cell_type": "markdown",
      "source": [
        "Time to create our Flask application. Here are your tasks:\n",
        "\n",
        "1. In your colab notebook create a new folder named `static`. In the folder create a file called `styles.css` and populate it with the following code:\n",
        "```css\n",
        ".chart-container {\n",
        "    width: 80%;\n",
        "    margin: 20px auto;\n",
        "}\n",
        "```\n",
        "This creates parameters for the bar chart we'll be creating. Note, the full directory of the file should be `/content/static/styles.css`.\n",
        "2. Create another folder named `templates`. Create a file called `index.html` and populate it with the following html code:\n",
        "```html\n",
        "<!DOCTYPE html>\n",
        "<html>\n",
        "<head>\n",
        "    <title>Data Visualization with Flask</title>\n",
        "    <link rel=\"stylesheet\" href=\"{{ url_for('static', filename='styles.css') }}\">\n",
        "</head>\n",
        "<body>\n",
        "    <h1>Data Visualization with Flask</h1>\n",
        "    <form method=\"POST\" action=\"/\">\n",
        "        <div>\n",
        "            <label for=\"categories\">Categories (comma-separated):</label>\n",
        "            <input type=\"text\" name=\"categories\" required>\n",
        "        </div>\n",
        "        <div>\n",
        "            <label for=\"values\">Values (comma-separated):</label>\n",
        "            <input type=\"text\" name=\"values\" required>\n",
        "        </div>\n",
        "        <button type=\"submit\">Generate Bar Chart</button>\n",
        "    </form>\n",
        "    <div class=\"chart-container\">\n",
        "        {% if chart_url %}\n",
        "            <img src=\"data:image/png;base64,{{ chart_url }}\" alt=\"Bar Chart\">\n",
        "        {% endif %}\n",
        "    </div>\n",
        "</body>\n",
        "</html>\n",
        "```\n",
        "Html is a pretty intuitive language to understand. Go through each line and make sure you understand what's happening. An extremely useful skill for an engineer is to be able to *understand* any kind of code, even if the engineer doesn't fully know how to write in the language."
      ],
      "metadata": {
        "id": "N3tXQyHOKORk"
      }
    },
    {
      "cell_type": "markdown",
      "source": [
        "1. Write a function called `generate_bar_chart` that takes a list of category names and respective values and generates a bar chart using [plt.bar](https://matplotlib.org/stable/api/_as_gen/matplotlib.pyplot.bar.html). In the function, return your barplot as a UTF-8 encoded string. It may be useful to create a BytesIO object using [io.BytesIO](https://docs.python.org/3/library/io.html#io.BytesIO) to store the barplot and then [base64.b64encode](https://docs.python.org/3/library/base64.html#base64.b64encode) to create the encoding.\n",
        "2. Now, you'll be filling in the `index` function that serves as the landing page for our application. If you're not too familiar with how HTTP works, read this quick primer [here](https://jaimelightfoot.com/blog/how-http-works/). From the form defined in `index.html`, extract the input for the `categories` field and store it in a list. Also, extract the input for the `values` field and store it in a list as well.\n",
        "3. Pass the two lists from the previous step to your function `generate_bar_chart`.\n",
        "4. The output of `generate_bar_chart` in the index function should then be passed to Flask's [render_template](https://flask.palletsprojects.com/en/2.3.x/api/#flask.render_template) and returned by the function.\n",
        "5. Execute the cell below with your code and click on the link output by \"ngrok tunnel\". This is the application landing page. See if everything works.\n",
        "6. Have fun with the application built here. See if you can extend it in some way. Make sure you understand how the python code interacts with the html template.\n",
        "\n",
        "**If you rerun the cell below and get a port issue, go ahead and restart the colab runtime environment and try again.**"
      ],
      "metadata": {
        "id": "GC7RCUTzMOVs"
      }
    },
    {
      "cell_type": "code",
      "source": [
        "# 1. Create a new folder named static.\n",
        "import os\n",
        "os.makedirs(\"static\")\n",
        "\n",
        "# CSS content to save to file.\n",
        "css_string = \".chart-container {width: 80%; margin: 20px auto;}\"\n",
        "\n",
        "# Create a file called styles.css\n",
        "with open('./static/styles.css', 'a') as filewriter:\n",
        "    filewriter.write(css_string)\n",
        "\n",
        "# 2. Create another folder named templates\n",
        "os.makedirs(\"templates\")\n",
        "\n",
        "# For item #6 above, added an additional text box to the html to get user's name.\n",
        "\n",
        "# HTML content to save to file.\n",
        "html_string = '<!DOCTYPE html><html><head><title>Data Visualization with Flask</title><link rel=\"stylesheet\" href=\"{{ url_for(\\'static\\', filename=\\'styles.css\\') }}\"></head><body><h1>Data Visualization with Flask</h1><form method=\"POST\" action=\"/\"><div><label for=\"categories\">Enter your name:</label><input type=\"text\" name=\"your_name\" required></div><div><label for=\"categories\">Categories (comma-separated):</label><input type=\"text\" name=\"categories\" required></div><div><label for=\"values\">Values (comma-separated):</label><input type=\"text\" name=\"values\" required></div><button type=\"submit\">Generate Bar Chart</button></form><div class=\"chart-container\">{% if chart_url %}<img src=\"data:image/png;base64,{{ chart_url }}\" alt=\"Bar Chart\">{% endif %}</div></body></html>'\n",
        "\n",
        "# Create a file called index.html.\n",
        "with open('./templates/index.html', 'a') as filewriter:\n",
        "    filewriter.write(html_string)\n",
        "\n",
        "# Check to see if the folders and files were created.\n",
        "os.listdir('./static')\n",
        "# Check to see if the folder and file were created.\n",
        "os.listdir('./templates')"
      ],
      "metadata": {
        "id": "AP35mwRiO-IT",
        "outputId": "63bf84fb-749a-4824-e884-907b84d4a5d9",
        "colab": {
          "base_uri": "https://localhost:8080/"
        }
      },
      "execution_count": 3,
      "outputs": [
        {
          "output_type": "execute_result",
          "data": {
            "text/plain": [
              "['index.html']"
            ]
          },
          "metadata": {},
          "execution_count": 3
        }
      ]
    },
    {
      "cell_type": "code",
      "source": [
        "from flask import Flask, render_template, request\n",
        "import threading\n",
        "import matplotlib.pyplot as plt\n",
        "import io\n",
        "import os\n",
        "import base64\n",
        "\n",
        "os.environ[\"FLASK_DEBUG\"] = \"development\"\n",
        "\n",
        "app = Flask(__name__)\n",
        "port = 5000\n",
        "\n",
        "# Open a ngrok tunnel to the HTTP server\n",
        "public_url = ngrok.connect(port).public_url\n",
        "print(\" * ngrok tunnel \\\"{}\\\" -> \\\"http://127.0.0.1:{}\\\"\".format(public_url, port))\n",
        "\n",
        "# Update any base URLs to use the public ngrok URL\n",
        "app.config[\"BASE_URL\"] = public_url\n",
        "\n",
        "\n",
        "# 1.\n",
        "# Added a parameter for item number 6 above to include a name supplied by the user.\n",
        "def generate_bar_chart(categories, values, user_name):\n",
        "    # Write code here for a fuction that takes a list of category names and\n",
        "    # respective values and generates a bar chart using plt.bar. Return your\n",
        "    # barplot as a UTF-8 encoded string.\n",
        "\n",
        "    # Get the x values from the category names list.\n",
        "    x = [category for category in categories]\n",
        "    # Get the y values from the values list.\n",
        "    y = [value for value in values]\n",
        "\n",
        "    # Set the subplot.\n",
        "    fig, ax = plt.subplots(figsize=(12,8))\n",
        "    # Set the bar chart and labels.\n",
        "    ax.bar(x,y)\n",
        "    ax.set_title(user_name + \"'s Category and Values chart\")\n",
        "    ax.set_xlabel(\"Categories\")\n",
        "    ax.set_ylabel(\"Values\")\n",
        "\n",
        "    # Create IO buffer object.\n",
        "    buffer = io.BytesIO()\n",
        "    #Save the bar chart to the buffer.\n",
        "    fig.savefig(buffer, format=\"png\")\n",
        "\n",
        "    # Return your barplot as a UTF-8 encoded string\n",
        "    return base64.b64encode(buffer.getvalue()).decode()\n",
        "\n",
        "\n",
        "@app.route('/', methods=['GET', 'POST'])\n",
        "def index():\n",
        "    chart_url = None\n",
        "\n",
        "    if request.method == 'POST':\n",
        "        # Extract categories from the request form and convert the string to a\n",
        "        # list.\n",
        "\n",
        "# 2.\n",
        "        # Get the categories from the HTTTP request.\n",
        "        categories_string = request.form[\"categories\"]\n",
        "        # Convert to list.\n",
        "        categories = categories_string.split(\",\")\n",
        "\n",
        "        # Extract values from the request form and convert the input string to a\n",
        "        # list of integers.\n",
        "\n",
        "        # Get the values from the HTTTP request.\n",
        "        values_string = request.form[\"values\"]\n",
        "\n",
        "        # Convert to list of integers.\n",
        "        values = [int(x) for x in values_string.split(\",\")]\n",
        "\n",
        "# 6. See if you can extend it in some way.\n",
        "# Make sure you understand how the python code interacts with the html template.\n",
        "\n",
        "        # Get the user's name from the additional text box included in the html.\n",
        "        user_name = request.form[\"your_name\"]\n",
        "\n",
        "\n",
        "# 3.\n",
        "        # Pass your categories and values to the generate_bar_chart function.\n",
        "        # also pass the additional name value included for item nubmer 6 above.\n",
        "        chart_url = generate_bar_chart(categories, values, user_name)\n",
        "# 4.\n",
        "    # Return a render_template function, passing your bar plot as input.\n",
        "    return render_template(\"index.html\", chart_url=chart_url)\n",
        "\n",
        "\n",
        "if __name__ == '__main__':\n",
        "    # Start the Flask server in a new thread\n",
        "  threading.Thread(target=app.run, kwargs={\"use_reloader\": False}).start()\n"
      ],
      "metadata": {
        "id": "TvtkyveVy1No",
        "outputId": "55c73ec7-d7c4-489f-c665-bfd2f1a9e714",
        "colab": {
          "base_uri": "https://localhost:8080/"
        }
      },
      "execution_count": 5,
      "outputs": [
        {
          "output_type": "stream",
          "name": "stdout",
          "text": [
            " * ngrok tunnel \"https://408c-104-196-192-115.ngrok-free.app\" -> \"http://127.0.0.1:5000\"\n",
            " * Serving Flask app '__main__'\n",
            " * Debug mode: on\n"
          ]
        },
        {
          "output_type": "stream",
          "name": "stderr",
          "text": [
            "INFO:werkzeug:\u001b[31m\u001b[1mWARNING: This is a development server. Do not use it in a production deployment. Use a production WSGI server instead.\u001b[0m\n",
            " * Running on http://127.0.0.1:5000\n",
            "INFO:werkzeug:\u001b[33mPress CTRL+C to quit\u001b[0m\n"
          ]
        }
      ]
    }
  ],
  "metadata": {
    "colab": {
      "provenance": []
    },
    "kernelspec": {
      "display_name": "Python 3",
      "name": "python3"
    },
    "language_info": {
      "name": "python"
    }
  },
  "nbformat": 4,
  "nbformat_minor": 0
}